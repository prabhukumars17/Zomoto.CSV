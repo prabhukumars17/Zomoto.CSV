{
 "cells": [
  {
   "cell_type": "markdown",
   "id": "277dff49",
   "metadata": {},
   "source": [
    "# MINI PROJECT- Python\n",
    "TOPIC– Indian food delivery restaurant aggregator"
   ]
  },
  {
   "cell_type": "markdown",
   "id": "e96b2311",
   "metadata": {},
   "source": [
    "\n",
    "PROBLEM STATEMENT:\n",
    "\n",
    "Restaurants from all over the world can be found here in Bengaluru. From the United States to Japan, Russia to Antarctica, you get all types of cuisines here. Delivery, Dine-out, Pubs, Bars, Drinks, Buffet, Desserts you name it and Bengaluru has it. Bengaluru is the best place for foodies. The number of restaurants is increasing day by day. Currently, it stands at approximately 12,000 restaurants. With such a high number of restaurants. This industry hasn't been saturated yet. And new restaurants are opening every day. However, it has become difficult for them to compete with already established restaurants. The key issues that continue to pose a challenge to them include high real estate costs, rising food costs, shortage of quality manpower, fragmented supply chain, and over-licensing. This Zomato data aims at analyzing the demography of the location. Most importantly it will help new restaurants in deciding their theme, menus, cuisine, cost, etc for a particular location. It also aims at finding similarities between neighborhoods of Bengaluru on the basis of food. The dataset also contains reviews for each of the restaurants which will help in finding the overall rating for the place.\n",
    "\n",
    "\n",
    "Aim:\n",
    "\n",
    "The basic idea of analyzing the Zomato dataset is to get a fair idea about the factors affecting the establishment of different types of restaurants at different places in Bengaluru, the aggregate rating of each restaurant, Bengaluru being one such city has more than 12,000 restaurants with restaurants serving dishes from all over the world. With each day new restaurants open the industry hasn't been saturated yet and the demand is increasing day by day. In spite of increasing demand, it however has become difficult for new restaurants to compete with established restaurants. Most of them serve the same food. Bengaluru is the IT capital of India. Most of the people here are dependent mainly on the restaurant food as they don’t have time to cook for themselves.\n",
    "\n",
    "DATASET DESCRIPTION:\n",
    "\n",
    "Zomato is an Indian multinational restaurant aggregator and food delivery company founded by Deepinder Goyal and Pankaj Chaddah in 2008. Zomato provides information, menus, and user reviews of restaurants as well as food delivery options from partner restaurants in select cities.\n",
    "\n",
    "\n",
    "DATA DICTIONARY:\n",
    "\n",
    "\n",
    "• Restaurant Id: Unique id of every restaurant across various cities of the world\n",
    "\n",
    "• Restaurant Name: Name of the restaurant\n",
    "\n",
    "• Country Code: Country in which restaurant is located\n",
    "\n",
    "• City: City in which the restaurant is located\n",
    "\n",
    "• Address: Address of the restaurant\n",
    "\n",
    "• Locality: Location in the city\n",
    "\n",
    "• Locality Verbose: Detailed description of the locality\n",
    "\n",
    "• Longitude: Longitude coordinate of the restaurant's location\n",
    "\n",
    "• Latitude: Latitude coordinate of the restaurant's location\n",
    "\n",
    "• Cuisines: Cuisines offered by the restaurant\n",
    "\n",
    "• Average Cost for two: Cost for two people in different currencies \n",
    "\n",
    "• Currency: Currency of the country\n",
    "\n",
    "• Has Table booking: yes/no\n",
    "\n",
    "• Has Online delivery: yes/ no\n",
    "\n",
    "• Is delivering: yes/ no\n",
    "\n",
    "• Switch to order menu: yes/no\n",
    "\n",
    "• Price range: range of price of food\n",
    "\n",
    "• Aggregate Rating: Average rating out of 5\n",
    "\n",
    "• Rating color: depending upon the average rating color\n",
    "\n",
    "• Rating text: text on the basis of rating of rating\n",
    "\n",
    "• Votes: Number of ratings cast by people\n"
   ]
  },
  {
   "cell_type": "markdown",
   "id": "ab72465f",
   "metadata": {},
   "source": [
    "# QUESTIONS TO SOLVE:"
   ]
  },
  {
   "cell_type": "markdown",
   "id": "31c8a0f3",
   "metadata": {},
   "source": [
    "Q1. Import libraries that you required and Load the data set."
   ]
  },
  {
   "cell_type": "code",
   "execution_count": 142,
   "id": "99bf795b",
   "metadata": {},
   "outputs": [],
   "source": [
    "# import libraries\n",
    "import numpy as np\n",
    "import seaborn as sns\n",
    "import pandas as pd\n",
    "import matplotlib.pyplot as plt\n",
    "import plotly.express as px"
   ]
  },
  {
   "cell_type": "code",
   "execution_count": 143,
   "id": "f47faea7",
   "metadata": {},
   "outputs": [
    {
     "data": {
      "text/html": [
       "<div>\n",
       "<style scoped>\n",
       "    .dataframe tbody tr th:only-of-type {\n",
       "        vertical-align: middle;\n",
       "    }\n",
       "\n",
       "    .dataframe tbody tr th {\n",
       "        vertical-align: top;\n",
       "    }\n",
       "\n",
       "    .dataframe thead th {\n",
       "        text-align: right;\n",
       "    }\n",
       "</style>\n",
       "<table border=\"1\" class=\"dataframe\">\n",
       "  <thead>\n",
       "    <tr style=\"text-align: right;\">\n",
       "      <th></th>\n",
       "      <th>Unnamed: 0</th>\n",
       "      <th>url</th>\n",
       "      <th>address</th>\n",
       "      <th>name</th>\n",
       "      <th>online_order</th>\n",
       "      <th>book_table</th>\n",
       "      <th>rate</th>\n",
       "      <th>votes</th>\n",
       "      <th>phone</th>\n",
       "      <th>location</th>\n",
       "      <th>rest_type</th>\n",
       "      <th>dish_liked</th>\n",
       "      <th>cuisines</th>\n",
       "      <th>approx_cost(for two people)</th>\n",
       "      <th>reviews_list</th>\n",
       "      <th>menu_item</th>\n",
       "      <th>listed_in(type)</th>\n",
       "      <th>listed_in(city)</th>\n",
       "    </tr>\n",
       "  </thead>\n",
       "  <tbody>\n",
       "    <tr>\n",
       "      <th>0</th>\n",
       "      <td>14221</td>\n",
       "      <td>https://www.zomato.com/bangalore/shree-ranga-v...</td>\n",
       "      <td>366, Hosur Main Road, Attibele, Anekal Taluk, ...</td>\n",
       "      <td>Shree Ranga Vilas</td>\n",
       "      <td>No</td>\n",
       "      <td>No</td>\n",
       "      <td>3.2/5</td>\n",
       "      <td>7</td>\n",
       "      <td>080 29765044</td>\n",
       "      <td>Electronic City</td>\n",
       "      <td>Casual Dining</td>\n",
       "      <td>NaN</td>\n",
       "      <td>North Indian, South Indian, Chinese, Juices</td>\n",
       "      <td>500</td>\n",
       "      <td>[('Rated 3.0', 'RATED\\n  Typical South Indian ...</td>\n",
       "      <td>[]</td>\n",
       "      <td>Dine-out</td>\n",
       "      <td>Electronic City</td>\n",
       "    </tr>\n",
       "    <tr>\n",
       "      <th>1</th>\n",
       "      <td>43422</td>\n",
       "      <td>https://www.zomato.com/bangalore/sphyre-gatewa...</td>\n",
       "      <td>Gateway Hotel, 66, Residency Road, Bangalore</td>\n",
       "      <td>Sphyre - Gateway Hotel</td>\n",
       "      <td>No</td>\n",
       "      <td>No</td>\n",
       "      <td>3.6 /5</td>\n",
       "      <td>45</td>\n",
       "      <td>+91 9886643495\\n+91 9898780004</td>\n",
       "      <td>Residency Road</td>\n",
       "      <td>Lounge</td>\n",
       "      <td>NaN</td>\n",
       "      <td>Finger Food</td>\n",
       "      <td>1,700</td>\n",
       "      <td>[('Rated 1.0', 'RATED\\n  Expected a good night...</td>\n",
       "      <td>[]</td>\n",
       "      <td>Dine-out</td>\n",
       "      <td>MG Road</td>\n",
       "    </tr>\n",
       "    <tr>\n",
       "      <th>2</th>\n",
       "      <td>16032</td>\n",
       "      <td>https://www.zomato.com/bangalore/popular-baker...</td>\n",
       "      <td>19, BDA Complex, HSR, Bangalore</td>\n",
       "      <td>Popular Bakery</td>\n",
       "      <td>No</td>\n",
       "      <td>No</td>\n",
       "      <td>3.7/5</td>\n",
       "      <td>36</td>\n",
       "      <td>+91 8105834605\\r\\n080 25722488</td>\n",
       "      <td>HSR</td>\n",
       "      <td>Dessert Parlor, Bakery</td>\n",
       "      <td>NaN</td>\n",
       "      <td>Desserts, Bakery</td>\n",
       "      <td>600</td>\n",
       "      <td>[('Rated 5.0', \"RATED\\n  This outlet is in HSR...</td>\n",
       "      <td>[]</td>\n",
       "      <td>Delivery</td>\n",
       "      <td>HSR</td>\n",
       "    </tr>\n",
       "    <tr>\n",
       "      <th>3</th>\n",
       "      <td>51635</td>\n",
       "      <td>https://www.zomato.com/bangalore/thai-chinese-...</td>\n",
       "      <td>7, Anurhh Arcade, Hoodi Road, Kodigehalli Road...</td>\n",
       "      <td>Thai &amp; Chinese Fast Food</td>\n",
       "      <td>No</td>\n",
       "      <td>No</td>\n",
       "      <td>3.4 /5</td>\n",
       "      <td>7</td>\n",
       "      <td>+91 9206260085\\n+91 7619416923</td>\n",
       "      <td>KR Puram</td>\n",
       "      <td>Quick Bites</td>\n",
       "      <td>NaN</td>\n",
       "      <td>Chinese, Thai</td>\n",
       "      <td>400</td>\n",
       "      <td>[('Rated 5.0', 'RATED\\n  Its Looking delicious...</td>\n",
       "      <td>[]</td>\n",
       "      <td>Dine-out</td>\n",
       "      <td>Whitefield</td>\n",
       "    </tr>\n",
       "    <tr>\n",
       "      <th>4</th>\n",
       "      <td>23424</td>\n",
       "      <td>https://www.zomato.com/bangalore/grill-on-whee...</td>\n",
       "      <td>Kothanuru Main Road, Puttenahalli Road, Natara...</td>\n",
       "      <td>Grill On Wheels</td>\n",
       "      <td>No</td>\n",
       "      <td>No</td>\n",
       "      <td>NEW</td>\n",
       "      <td>0</td>\n",
       "      <td>+91 9901979901</td>\n",
       "      <td>JP Nagar</td>\n",
       "      <td>Quick Bites</td>\n",
       "      <td>NaN</td>\n",
       "      <td>North Indian, Chinese, BBQ, Arabian, Fast Food</td>\n",
       "      <td>400</td>\n",
       "      <td>[]</td>\n",
       "      <td>[]</td>\n",
       "      <td>Dine-out</td>\n",
       "      <td>JP Nagar</td>\n",
       "    </tr>\n",
       "    <tr>\n",
       "      <th>...</th>\n",
       "      <td>...</td>\n",
       "      <td>...</td>\n",
       "      <td>...</td>\n",
       "      <td>...</td>\n",
       "      <td>...</td>\n",
       "      <td>...</td>\n",
       "      <td>...</td>\n",
       "      <td>...</td>\n",
       "      <td>...</td>\n",
       "      <td>...</td>\n",
       "      <td>...</td>\n",
       "      <td>...</td>\n",
       "      <td>...</td>\n",
       "      <td>...</td>\n",
       "      <td>...</td>\n",
       "      <td>...</td>\n",
       "      <td>...</td>\n",
       "      <td>...</td>\n",
       "    </tr>\n",
       "    <tr>\n",
       "      <th>9995</th>\n",
       "      <td>26497</td>\n",
       "      <td>https://www.zomato.com/bangalore/asia-kitchen-...</td>\n",
       "      <td>136, Ground Floor, 1st Cross, 5th Block, Jyoti...</td>\n",
       "      <td>Asia Kitchen By Mainland China</td>\n",
       "      <td>Yes</td>\n",
       "      <td>Yes</td>\n",
       "      <td>4.9/5</td>\n",
       "      <td>2215</td>\n",
       "      <td>080 49652573</td>\n",
       "      <td>Koramangala 5th Block</td>\n",
       "      <td>Casual Dining, Bar</td>\n",
       "      <td>Chicken Dim Sum, Pad Thai Noodle, Jumbo Prawns...</td>\n",
       "      <td>Asian, Chinese, Thai, Momos</td>\n",
       "      <td>1,500</td>\n",
       "      <td>[('Rated 5.0', \"RATED\\n  Everything from the a...</td>\n",
       "      <td>[]</td>\n",
       "      <td>Buffet</td>\n",
       "      <td>Koramangala 4th Block</td>\n",
       "    </tr>\n",
       "    <tr>\n",
       "      <th>9996</th>\n",
       "      <td>45520</td>\n",
       "      <td>https://www.zomato.com/bangalore/24-hours-cake...</td>\n",
       "      <td>Shop 1, ATR Complex, Old Airport Road, Bangalore</td>\n",
       "      <td>24 Hours Cake Delivery</td>\n",
       "      <td>No</td>\n",
       "      <td>No</td>\n",
       "      <td>3.3 /5</td>\n",
       "      <td>4</td>\n",
       "      <td>+91 9711655952</td>\n",
       "      <td>Old Airport Road</td>\n",
       "      <td>Delivery</td>\n",
       "      <td>NaN</td>\n",
       "      <td>Bakery</td>\n",
       "      <td>700</td>\n",
       "      <td>[('Rated 1.0', 'RATED\\n  Very unprofessional b...</td>\n",
       "      <td>[]</td>\n",
       "      <td>Desserts</td>\n",
       "      <td>Old Airport Road</td>\n",
       "    </tr>\n",
       "    <tr>\n",
       "      <th>9997</th>\n",
       "      <td>41541</td>\n",
       "      <td>https://www.zomato.com/bangalore/tbc-sky-loung...</td>\n",
       "      <td>36/1, 5th Floor, Berry's Hotel Kadubeesanahall...</td>\n",
       "      <td>TBC- Sky Lounge</td>\n",
       "      <td>No</td>\n",
       "      <td>Yes</td>\n",
       "      <td>4.4 /5</td>\n",
       "      <td>619</td>\n",
       "      <td>080 42106712\\n+91 7624959444</td>\n",
       "      <td>Marathahalli</td>\n",
       "      <td>Casual Dining, Bar</td>\n",
       "      <td>Fish, Peri Peri Chicken, Cocktails, Chilli Chi...</td>\n",
       "      <td>Continental, Asian, Italian, North Indian</td>\n",
       "      <td>1,000</td>\n",
       "      <td>[('Rated 2.0', 'RATED\\n  The high rating on Zo...</td>\n",
       "      <td>[]</td>\n",
       "      <td>Dine-out</td>\n",
       "      <td>Marathahalli</td>\n",
       "    </tr>\n",
       "    <tr>\n",
       "      <th>9998</th>\n",
       "      <td>35621</td>\n",
       "      <td>https://www.zomato.com/bangalore/tawa-sagara-j...</td>\n",
       "      <td>29/1, 30th Cross, 4th T Block, Thilknagar, Jay...</td>\n",
       "      <td>Tawa Sagara</td>\n",
       "      <td>No</td>\n",
       "      <td>No</td>\n",
       "      <td>3.8 /5</td>\n",
       "      <td>122</td>\n",
       "      <td>NaN</td>\n",
       "      <td>Jayanagar</td>\n",
       "      <td>Casual Dining</td>\n",
       "      <td>Sea Food, Biryani, Fish Thali, Neer Dosa, Murg...</td>\n",
       "      <td>Mangalorean, Seafood</td>\n",
       "      <td>NaN</td>\n",
       "      <td>[('Rated 1.0', 'RATED\\n  We orders chicken suk...</td>\n",
       "      <td>[]</td>\n",
       "      <td>Delivery</td>\n",
       "      <td>Koramangala 7th Block</td>\n",
       "    </tr>\n",
       "    <tr>\n",
       "      <th>9999</th>\n",
       "      <td>27432</td>\n",
       "      <td>https://www.zomato.com/bangalore/a3-nuwang-kit...</td>\n",
       "      <td>6/1, Ejipura Pipeline Road, Ejipura, Bangalore</td>\n",
       "      <td>A3 Nuwang Kitchen</td>\n",
       "      <td>Yes</td>\n",
       "      <td>No</td>\n",
       "      <td>3.7/5</td>\n",
       "      <td>42</td>\n",
       "      <td>+91 8892430466\\r\\n+91 8867915147</td>\n",
       "      <td>Ejipura</td>\n",
       "      <td>Quick Bites</td>\n",
       "      <td>NaN</td>\n",
       "      <td>Chinese, North Indian</td>\n",
       "      <td>300</td>\n",
       "      <td>[('Rated 4.0', 'RATED\\n  I stay near by and ea...</td>\n",
       "      <td>[]</td>\n",
       "      <td>Delivery</td>\n",
       "      <td>Koramangala 4th Block</td>\n",
       "    </tr>\n",
       "  </tbody>\n",
       "</table>\n",
       "<p>10000 rows × 18 columns</p>\n",
       "</div>"
      ],
      "text/plain": [
       "      Unnamed: 0                                                url  \\\n",
       "0          14221  https://www.zomato.com/bangalore/shree-ranga-v...   \n",
       "1          43422  https://www.zomato.com/bangalore/sphyre-gatewa...   \n",
       "2          16032  https://www.zomato.com/bangalore/popular-baker...   \n",
       "3          51635  https://www.zomato.com/bangalore/thai-chinese-...   \n",
       "4          23424  https://www.zomato.com/bangalore/grill-on-whee...   \n",
       "...          ...                                                ...   \n",
       "9995       26497  https://www.zomato.com/bangalore/asia-kitchen-...   \n",
       "9996       45520  https://www.zomato.com/bangalore/24-hours-cake...   \n",
       "9997       41541  https://www.zomato.com/bangalore/tbc-sky-loung...   \n",
       "9998       35621  https://www.zomato.com/bangalore/tawa-sagara-j...   \n",
       "9999       27432  https://www.zomato.com/bangalore/a3-nuwang-kit...   \n",
       "\n",
       "                                                address  \\\n",
       "0     366, Hosur Main Road, Attibele, Anekal Taluk, ...   \n",
       "1          Gateway Hotel, 66, Residency Road, Bangalore   \n",
       "2                       19, BDA Complex, HSR, Bangalore   \n",
       "3     7, Anurhh Arcade, Hoodi Road, Kodigehalli Road...   \n",
       "4     Kothanuru Main Road, Puttenahalli Road, Natara...   \n",
       "...                                                 ...   \n",
       "9995  136, Ground Floor, 1st Cross, 5th Block, Jyoti...   \n",
       "9996   Shop 1, ATR Complex, Old Airport Road, Bangalore   \n",
       "9997  36/1, 5th Floor, Berry's Hotel Kadubeesanahall...   \n",
       "9998  29/1, 30th Cross, 4th T Block, Thilknagar, Jay...   \n",
       "9999     6/1, Ejipura Pipeline Road, Ejipura, Bangalore   \n",
       "\n",
       "                                name online_order book_table    rate  votes  \\\n",
       "0                  Shree Ranga Vilas           No         No   3.2/5      7   \n",
       "1             Sphyre - Gateway Hotel           No         No  3.6 /5     45   \n",
       "2                     Popular Bakery           No         No   3.7/5     36   \n",
       "3           Thai & Chinese Fast Food           No         No  3.4 /5      7   \n",
       "4                    Grill On Wheels           No         No     NEW      0   \n",
       "...                              ...          ...        ...     ...    ...   \n",
       "9995  Asia Kitchen By Mainland China          Yes        Yes   4.9/5   2215   \n",
       "9996          24 Hours Cake Delivery           No         No  3.3 /5      4   \n",
       "9997                 TBC- Sky Lounge           No        Yes  4.4 /5    619   \n",
       "9998                     Tawa Sagara           No         No  3.8 /5    122   \n",
       "9999               A3 Nuwang Kitchen          Yes         No   3.7/5     42   \n",
       "\n",
       "                                 phone               location  \\\n",
       "0                         080 29765044        Electronic City   \n",
       "1       +91 9886643495\\n+91 9898780004         Residency Road   \n",
       "2       +91 8105834605\\r\\n080 25722488                    HSR   \n",
       "3       +91 9206260085\\n+91 7619416923               KR Puram   \n",
       "4                       +91 9901979901               JP Nagar   \n",
       "...                                ...                    ...   \n",
       "9995                      080 49652573  Koramangala 5th Block   \n",
       "9996                    +91 9711655952       Old Airport Road   \n",
       "9997      080 42106712\\n+91 7624959444           Marathahalli   \n",
       "9998                               NaN              Jayanagar   \n",
       "9999  +91 8892430466\\r\\n+91 8867915147                Ejipura   \n",
       "\n",
       "                   rest_type  \\\n",
       "0              Casual Dining   \n",
       "1                     Lounge   \n",
       "2     Dessert Parlor, Bakery   \n",
       "3                Quick Bites   \n",
       "4                Quick Bites   \n",
       "...                      ...   \n",
       "9995      Casual Dining, Bar   \n",
       "9996                Delivery   \n",
       "9997      Casual Dining, Bar   \n",
       "9998           Casual Dining   \n",
       "9999             Quick Bites   \n",
       "\n",
       "                                             dish_liked  \\\n",
       "0                                                   NaN   \n",
       "1                                                   NaN   \n",
       "2                                                   NaN   \n",
       "3                                                   NaN   \n",
       "4                                                   NaN   \n",
       "...                                                 ...   \n",
       "9995  Chicken Dim Sum, Pad Thai Noodle, Jumbo Prawns...   \n",
       "9996                                                NaN   \n",
       "9997  Fish, Peri Peri Chicken, Cocktails, Chilli Chi...   \n",
       "9998  Sea Food, Biryani, Fish Thali, Neer Dosa, Murg...   \n",
       "9999                                                NaN   \n",
       "\n",
       "                                            cuisines  \\\n",
       "0        North Indian, South Indian, Chinese, Juices   \n",
       "1                                        Finger Food   \n",
       "2                                   Desserts, Bakery   \n",
       "3                                      Chinese, Thai   \n",
       "4     North Indian, Chinese, BBQ, Arabian, Fast Food   \n",
       "...                                              ...   \n",
       "9995                     Asian, Chinese, Thai, Momos   \n",
       "9996                                          Bakery   \n",
       "9997       Continental, Asian, Italian, North Indian   \n",
       "9998                            Mangalorean, Seafood   \n",
       "9999                           Chinese, North Indian   \n",
       "\n",
       "     approx_cost(for two people)  \\\n",
       "0                            500   \n",
       "1                          1,700   \n",
       "2                            600   \n",
       "3                            400   \n",
       "4                            400   \n",
       "...                          ...   \n",
       "9995                       1,500   \n",
       "9996                         700   \n",
       "9997                       1,000   \n",
       "9998                         NaN   \n",
       "9999                         300   \n",
       "\n",
       "                                           reviews_list menu_item  \\\n",
       "0     [('Rated 3.0', 'RATED\\n  Typical South Indian ...        []   \n",
       "1     [('Rated 1.0', 'RATED\\n  Expected a good night...        []   \n",
       "2     [('Rated 5.0', \"RATED\\n  This outlet is in HSR...        []   \n",
       "3     [('Rated 5.0', 'RATED\\n  Its Looking delicious...        []   \n",
       "4                                                    []        []   \n",
       "...                                                 ...       ...   \n",
       "9995  [('Rated 5.0', \"RATED\\n  Everything from the a...        []   \n",
       "9996  [('Rated 1.0', 'RATED\\n  Very unprofessional b...        []   \n",
       "9997  [('Rated 2.0', 'RATED\\n  The high rating on Zo...        []   \n",
       "9998  [('Rated 1.0', 'RATED\\n  We orders chicken suk...        []   \n",
       "9999  [('Rated 4.0', 'RATED\\n  I stay near by and ea...        []   \n",
       "\n",
       "     listed_in(type)        listed_in(city)  \n",
       "0           Dine-out        Electronic City  \n",
       "1           Dine-out                MG Road  \n",
       "2           Delivery                    HSR  \n",
       "3           Dine-out             Whitefield  \n",
       "4           Dine-out               JP Nagar  \n",
       "...              ...                    ...  \n",
       "9995          Buffet  Koramangala 4th Block  \n",
       "9996        Desserts       Old Airport Road  \n",
       "9997        Dine-out           Marathahalli  \n",
       "9998        Delivery  Koramangala 7th Block  \n",
       "9999        Delivery  Koramangala 4th Block  \n",
       "\n",
       "[10000 rows x 18 columns]"
      ]
     },
     "execution_count": 143,
     "metadata": {},
     "output_type": "execute_result"
    }
   ],
   "source": [
    "df=pd.read_csv('Zomoto.CSV')\n",
    "df"
   ]
  },
  {
   "cell_type": "code",
   "execution_count": 4,
   "id": "47fd9dde",
   "metadata": {},
   "outputs": [
    {
     "data": {
      "text/html": [
       "<div>\n",
       "<style scoped>\n",
       "    .dataframe tbody tr th:only-of-type {\n",
       "        vertical-align: middle;\n",
       "    }\n",
       "\n",
       "    .dataframe tbody tr th {\n",
       "        vertical-align: top;\n",
       "    }\n",
       "\n",
       "    .dataframe thead th {\n",
       "        text-align: right;\n",
       "    }\n",
       "</style>\n",
       "<table border=\"1\" class=\"dataframe\">\n",
       "  <thead>\n",
       "    <tr style=\"text-align: right;\">\n",
       "      <th></th>\n",
       "      <th>Unnamed: 0</th>\n",
       "      <th>url</th>\n",
       "      <th>address</th>\n",
       "      <th>name</th>\n",
       "      <th>online_order</th>\n",
       "      <th>book_table</th>\n",
       "      <th>rate</th>\n",
       "      <th>votes</th>\n",
       "      <th>phone</th>\n",
       "      <th>location</th>\n",
       "      <th>rest_type</th>\n",
       "      <th>dish_liked</th>\n",
       "      <th>cuisines</th>\n",
       "      <th>approx_cost(for two people)</th>\n",
       "      <th>reviews_list</th>\n",
       "      <th>menu_item</th>\n",
       "      <th>listed_in(type)</th>\n",
       "      <th>listed_in(city)</th>\n",
       "    </tr>\n",
       "  </thead>\n",
       "  <tbody>\n",
       "    <tr>\n",
       "      <th>0</th>\n",
       "      <td>14221</td>\n",
       "      <td>https://www.zomato.com/bangalore/shree-ranga-v...</td>\n",
       "      <td>366, Hosur Main Road, Attibele, Anekal Taluk, ...</td>\n",
       "      <td>Shree Ranga Vilas</td>\n",
       "      <td>No</td>\n",
       "      <td>No</td>\n",
       "      <td>3.2/5</td>\n",
       "      <td>7</td>\n",
       "      <td>080 29765044</td>\n",
       "      <td>Electronic City</td>\n",
       "      <td>Casual Dining</td>\n",
       "      <td>NaN</td>\n",
       "      <td>North Indian, South Indian, Chinese, Juices</td>\n",
       "      <td>500</td>\n",
       "      <td>[('Rated 3.0', 'RATED\\n  Typical South Indian ...</td>\n",
       "      <td>[]</td>\n",
       "      <td>Dine-out</td>\n",
       "      <td>Electronic City</td>\n",
       "    </tr>\n",
       "    <tr>\n",
       "      <th>1</th>\n",
       "      <td>43422</td>\n",
       "      <td>https://www.zomato.com/bangalore/sphyre-gatewa...</td>\n",
       "      <td>Gateway Hotel, 66, Residency Road, Bangalore</td>\n",
       "      <td>Sphyre - Gateway Hotel</td>\n",
       "      <td>No</td>\n",
       "      <td>No</td>\n",
       "      <td>3.6 /5</td>\n",
       "      <td>45</td>\n",
       "      <td>+91 9886643495\\n+91 9898780004</td>\n",
       "      <td>Residency Road</td>\n",
       "      <td>Lounge</td>\n",
       "      <td>NaN</td>\n",
       "      <td>Finger Food</td>\n",
       "      <td>1,700</td>\n",
       "      <td>[('Rated 1.0', 'RATED\\n  Expected a good night...</td>\n",
       "      <td>[]</td>\n",
       "      <td>Dine-out</td>\n",
       "      <td>MG Road</td>\n",
       "    </tr>\n",
       "    <tr>\n",
       "      <th>2</th>\n",
       "      <td>16032</td>\n",
       "      <td>https://www.zomato.com/bangalore/popular-baker...</td>\n",
       "      <td>19, BDA Complex, HSR, Bangalore</td>\n",
       "      <td>Popular Bakery</td>\n",
       "      <td>No</td>\n",
       "      <td>No</td>\n",
       "      <td>3.7/5</td>\n",
       "      <td>36</td>\n",
       "      <td>+91 8105834605\\r\\n080 25722488</td>\n",
       "      <td>HSR</td>\n",
       "      <td>Dessert Parlor, Bakery</td>\n",
       "      <td>NaN</td>\n",
       "      <td>Desserts, Bakery</td>\n",
       "      <td>600</td>\n",
       "      <td>[('Rated 5.0', \"RATED\\n  This outlet is in HSR...</td>\n",
       "      <td>[]</td>\n",
       "      <td>Delivery</td>\n",
       "      <td>HSR</td>\n",
       "    </tr>\n",
       "    <tr>\n",
       "      <th>3</th>\n",
       "      <td>51635</td>\n",
       "      <td>https://www.zomato.com/bangalore/thai-chinese-...</td>\n",
       "      <td>7, Anurhh Arcade, Hoodi Road, Kodigehalli Road...</td>\n",
       "      <td>Thai &amp; Chinese Fast Food</td>\n",
       "      <td>No</td>\n",
       "      <td>No</td>\n",
       "      <td>3.4 /5</td>\n",
       "      <td>7</td>\n",
       "      <td>+91 9206260085\\n+91 7619416923</td>\n",
       "      <td>KR Puram</td>\n",
       "      <td>Quick Bites</td>\n",
       "      <td>NaN</td>\n",
       "      <td>Chinese, Thai</td>\n",
       "      <td>400</td>\n",
       "      <td>[('Rated 5.0', 'RATED\\n  Its Looking delicious...</td>\n",
       "      <td>[]</td>\n",
       "      <td>Dine-out</td>\n",
       "      <td>Whitefield</td>\n",
       "    </tr>\n",
       "    <tr>\n",
       "      <th>4</th>\n",
       "      <td>23424</td>\n",
       "      <td>https://www.zomato.com/bangalore/grill-on-whee...</td>\n",
       "      <td>Kothanuru Main Road, Puttenahalli Road, Natara...</td>\n",
       "      <td>Grill On Wheels</td>\n",
       "      <td>No</td>\n",
       "      <td>No</td>\n",
       "      <td>NEW</td>\n",
       "      <td>0</td>\n",
       "      <td>+91 9901979901</td>\n",
       "      <td>JP Nagar</td>\n",
       "      <td>Quick Bites</td>\n",
       "      <td>NaN</td>\n",
       "      <td>North Indian, Chinese, BBQ, Arabian, Fast Food</td>\n",
       "      <td>400</td>\n",
       "      <td>[]</td>\n",
       "      <td>[]</td>\n",
       "      <td>Dine-out</td>\n",
       "      <td>JP Nagar</td>\n",
       "    </tr>\n",
       "  </tbody>\n",
       "</table>\n",
       "</div>"
      ],
      "text/plain": [
       "   Unnamed: 0                                                url  \\\n",
       "0       14221  https://www.zomato.com/bangalore/shree-ranga-v...   \n",
       "1       43422  https://www.zomato.com/bangalore/sphyre-gatewa...   \n",
       "2       16032  https://www.zomato.com/bangalore/popular-baker...   \n",
       "3       51635  https://www.zomato.com/bangalore/thai-chinese-...   \n",
       "4       23424  https://www.zomato.com/bangalore/grill-on-whee...   \n",
       "\n",
       "                                             address  \\\n",
       "0  366, Hosur Main Road, Attibele, Anekal Taluk, ...   \n",
       "1       Gateway Hotel, 66, Residency Road, Bangalore   \n",
       "2                    19, BDA Complex, HSR, Bangalore   \n",
       "3  7, Anurhh Arcade, Hoodi Road, Kodigehalli Road...   \n",
       "4  Kothanuru Main Road, Puttenahalli Road, Natara...   \n",
       "\n",
       "                       name online_order book_table    rate  votes  \\\n",
       "0         Shree Ranga Vilas           No         No   3.2/5      7   \n",
       "1    Sphyre - Gateway Hotel           No         No  3.6 /5     45   \n",
       "2            Popular Bakery           No         No   3.7/5     36   \n",
       "3  Thai & Chinese Fast Food           No         No  3.4 /5      7   \n",
       "4           Grill On Wheels           No         No     NEW      0   \n",
       "\n",
       "                            phone         location               rest_type  \\\n",
       "0                    080 29765044  Electronic City           Casual Dining   \n",
       "1  +91 9886643495\\n+91 9898780004   Residency Road                  Lounge   \n",
       "2  +91 8105834605\\r\\n080 25722488              HSR  Dessert Parlor, Bakery   \n",
       "3  +91 9206260085\\n+91 7619416923         KR Puram             Quick Bites   \n",
       "4                  +91 9901979901         JP Nagar             Quick Bites   \n",
       "\n",
       "  dish_liked                                        cuisines  \\\n",
       "0        NaN     North Indian, South Indian, Chinese, Juices   \n",
       "1        NaN                                     Finger Food   \n",
       "2        NaN                                Desserts, Bakery   \n",
       "3        NaN                                   Chinese, Thai   \n",
       "4        NaN  North Indian, Chinese, BBQ, Arabian, Fast Food   \n",
       "\n",
       "  approx_cost(for two people)  \\\n",
       "0                         500   \n",
       "1                       1,700   \n",
       "2                         600   \n",
       "3                         400   \n",
       "4                         400   \n",
       "\n",
       "                                        reviews_list menu_item  \\\n",
       "0  [('Rated 3.0', 'RATED\\n  Typical South Indian ...        []   \n",
       "1  [('Rated 1.0', 'RATED\\n  Expected a good night...        []   \n",
       "2  [('Rated 5.0', \"RATED\\n  This outlet is in HSR...        []   \n",
       "3  [('Rated 5.0', 'RATED\\n  Its Looking delicious...        []   \n",
       "4                                                 []        []   \n",
       "\n",
       "  listed_in(type)  listed_in(city)  \n",
       "0        Dine-out  Electronic City  \n",
       "1        Dine-out          MG Road  \n",
       "2        Delivery              HSR  \n",
       "3        Dine-out       Whitefield  \n",
       "4        Dine-out         JP Nagar  "
      ]
     },
     "execution_count": 4,
     "metadata": {},
     "output_type": "execute_result"
    }
   ],
   "source": [
    "df.head()"
   ]
  },
  {
   "cell_type": "markdown",
   "id": "ab0a8768",
   "metadata": {},
   "source": [
    "Q2. Which are the top restaurant chains based on the distribution(frequency) in Bangaluru?"
   ]
  },
  {
   "cell_type": "code",
   "execution_count": 30,
   "id": "8cebad2f",
   "metadata": {
    "scrolled": true
   },
   "outputs": [
    {
     "data": {
      "text/html": [
       "<div>\n",
       "<style scoped>\n",
       "    .dataframe tbody tr th:only-of-type {\n",
       "        vertical-align: middle;\n",
       "    }\n",
       "\n",
       "    .dataframe tbody tr th {\n",
       "        vertical-align: top;\n",
       "    }\n",
       "\n",
       "    .dataframe thead th {\n",
       "        text-align: right;\n",
       "    }\n",
       "</style>\n",
       "<table border=\"1\" class=\"dataframe\">\n",
       "  <thead>\n",
       "    <tr style=\"text-align: right;\">\n",
       "      <th></th>\n",
       "      <th>name</th>\n",
       "    </tr>\n",
       "  </thead>\n",
       "  <tbody>\n",
       "    <tr>\n",
       "      <th>Cafe Coffee Day</th>\n",
       "      <td>18</td>\n",
       "    </tr>\n",
       "    <tr>\n",
       "      <th>Keventers</th>\n",
       "      <td>17</td>\n",
       "    </tr>\n",
       "    <tr>\n",
       "      <th>Onesta</th>\n",
       "      <td>17</td>\n",
       "    </tr>\n",
       "    <tr>\n",
       "      <th>McDonald's</th>\n",
       "      <td>16</td>\n",
       "    </tr>\n",
       "    <tr>\n",
       "      <th>SGS Non Veg - Gundu Pulav</th>\n",
       "      <td>16</td>\n",
       "    </tr>\n",
       "    <tr>\n",
       "      <th>...</th>\n",
       "      <td>...</td>\n",
       "    </tr>\n",
       "    <tr>\n",
       "      <th>Rufi's Kati Roll</th>\n",
       "      <td>1</td>\n",
       "    </tr>\n",
       "    <tr>\n",
       "      <th>MRS Paradise</th>\n",
       "      <td>1</td>\n",
       "    </tr>\n",
       "    <tr>\n",
       "      <th>Cafe Mamma Mia</th>\n",
       "      <td>1</td>\n",
       "    </tr>\n",
       "    <tr>\n",
       "      <th>Hotel Food Lands</th>\n",
       "      <td>1</td>\n",
       "    </tr>\n",
       "    <tr>\n",
       "      <th>TBC- Sky Lounge</th>\n",
       "      <td>1</td>\n",
       "    </tr>\n",
       "  </tbody>\n",
       "</table>\n",
       "<p>4738 rows × 1 columns</p>\n",
       "</div>"
      ],
      "text/plain": [
       "                           name\n",
       "Cafe Coffee Day              18\n",
       "Keventers                    17\n",
       "Onesta                       17\n",
       "McDonald's                   16\n",
       "SGS Non Veg - Gundu Pulav    16\n",
       "...                         ...\n",
       "Rufi's Kati Roll              1\n",
       "MRS Paradise                  1\n",
       "Cafe Mamma Mia                1\n",
       "Hotel Food Lands              1\n",
       "TBC- Sky Lounge               1\n",
       "\n",
       "[4738 rows x 1 columns]"
      ]
     },
     "execution_count": 30,
     "metadata": {},
     "output_type": "execute_result"
    }
   ],
   "source": [
    "s2=df[\"name\"].value_counts()\n",
    "df2=pd.DataFrame(s2)\n",
    "df2"
   ]
  },
  {
   "cell_type": "code",
   "execution_count": 31,
   "id": "23f3ff82",
   "metadata": {},
   "outputs": [
    {
     "data": {
      "text/html": [
       "<div>\n",
       "<style scoped>\n",
       "    .dataframe tbody tr th:only-of-type {\n",
       "        vertical-align: middle;\n",
       "    }\n",
       "\n",
       "    .dataframe tbody tr th {\n",
       "        vertical-align: top;\n",
       "    }\n",
       "\n",
       "    .dataframe thead th {\n",
       "        text-align: right;\n",
       "    }\n",
       "</style>\n",
       "<table border=\"1\" class=\"dataframe\">\n",
       "  <thead>\n",
       "    <tr style=\"text-align: right;\">\n",
       "      <th></th>\n",
       "      <th>name</th>\n",
       "    </tr>\n",
       "  </thead>\n",
       "  <tbody>\n",
       "    <tr>\n",
       "      <th>Cafe Coffee Day</th>\n",
       "      <td>18</td>\n",
       "    </tr>\n",
       "    <tr>\n",
       "      <th>Keventers</th>\n",
       "      <td>17</td>\n",
       "    </tr>\n",
       "    <tr>\n",
       "      <th>Onesta</th>\n",
       "      <td>17</td>\n",
       "    </tr>\n",
       "    <tr>\n",
       "      <th>McDonald's</th>\n",
       "      <td>16</td>\n",
       "    </tr>\n",
       "    <tr>\n",
       "      <th>SGS Non Veg - Gundu Pulav</th>\n",
       "      <td>16</td>\n",
       "    </tr>\n",
       "    <tr>\n",
       "      <th>The Chocolate Heaven</th>\n",
       "      <td>16</td>\n",
       "    </tr>\n",
       "    <tr>\n",
       "      <th>Baskin Robbins</th>\n",
       "      <td>16</td>\n",
       "    </tr>\n",
       "    <tr>\n",
       "      <th>Mad Over Donuts</th>\n",
       "      <td>15</td>\n",
       "    </tr>\n",
       "    <tr>\n",
       "      <th>Tata Cha</th>\n",
       "      <td>15</td>\n",
       "    </tr>\n",
       "    <tr>\n",
       "      <th>Petoo</th>\n",
       "      <td>15</td>\n",
       "    </tr>\n",
       "  </tbody>\n",
       "</table>\n",
       "</div>"
      ],
      "text/plain": [
       "                           name\n",
       "Cafe Coffee Day              18\n",
       "Keventers                    17\n",
       "Onesta                       17\n",
       "McDonald's                   16\n",
       "SGS Non Veg - Gundu Pulav    16\n",
       "The Chocolate Heaven         16\n",
       "Baskin Robbins               16\n",
       "Mad Over Donuts              15\n",
       "Tata Cha                     15\n",
       "Petoo                        15"
      ]
     },
     "execution_count": 31,
     "metadata": {},
     "output_type": "execute_result"
    }
   ],
   "source": [
    "# for getting top 10 restaurant chains based on the distribution(frequency) in Bangaluru\n",
    "df2[:10]"
   ]
  },
  {
   "cell_type": "markdown",
   "id": "e53337b1",
   "metadata": {},
   "source": [
    "Q3. How many restaurants do not accept online orders?"
   ]
  },
  {
   "cell_type": "code",
   "execution_count": 34,
   "id": "be809365",
   "metadata": {},
   "outputs": [
    {
     "data": {
      "text/plain": [
       "4057"
      ]
     },
     "execution_count": 34,
     "metadata": {},
     "output_type": "execute_result"
    }
   ],
   "source": [
    "df[df['online_order']=='No'].shape[0]"
   ]
  },
  {
   "cell_type": "code",
   "execution_count": 35,
   "id": "78cfced8",
   "metadata": {},
   "outputs": [
    {
     "data": {
      "text/plain": [
       "4057"
      ]
     },
     "execution_count": 35,
     "metadata": {},
     "output_type": "execute_result"
    }
   ],
   "source": [
    "# another method\n",
    "df[df['online_order']=='No'].count()[0]"
   ]
  },
  {
   "cell_type": "markdown",
   "id": "cf412514",
   "metadata": {},
   "source": [
    "Q4. What is the ratio b/w restaurants that provide and do not provide table booking?"
   ]
  },
  {
   "cell_type": "code",
   "execution_count": 23,
   "id": "755a9c11",
   "metadata": {},
   "outputs": [
    {
     "data": {
      "text/html": [
       "<div>\n",
       "<style scoped>\n",
       "    .dataframe tbody tr th:only-of-type {\n",
       "        vertical-align: middle;\n",
       "    }\n",
       "\n",
       "    .dataframe tbody tr th {\n",
       "        vertical-align: top;\n",
       "    }\n",
       "\n",
       "    .dataframe thead th {\n",
       "        text-align: right;\n",
       "    }\n",
       "</style>\n",
       "<table border=\"1\" class=\"dataframe\">\n",
       "  <thead>\n",
       "    <tr style=\"text-align: right;\">\n",
       "      <th></th>\n",
       "      <th>book_table</th>\n",
       "    </tr>\n",
       "  </thead>\n",
       "  <tbody>\n",
       "    <tr>\n",
       "      <th>No</th>\n",
       "      <td>8754</td>\n",
       "    </tr>\n",
       "    <tr>\n",
       "      <th>Yes</th>\n",
       "      <td>1246</td>\n",
       "    </tr>\n",
       "  </tbody>\n",
       "</table>\n",
       "</div>"
      ],
      "text/plain": [
       "     book_table\n",
       "No         8754\n",
       "Yes        1246"
      ]
     },
     "execution_count": 23,
     "metadata": {},
     "output_type": "execute_result"
    }
   ],
   "source": [
    "df4= df['book_table'].value_counts().to_frame()\n",
    "df4"
   ]
  },
  {
   "cell_type": "code",
   "execution_count": 26,
   "id": "899977de",
   "metadata": {},
   "outputs": [
    {
     "name": "stdout",
     "output_type": "stream",
     "text": [
      "The ratio b/w restaurants that provide and do not provide book_table    0.14\n",
      "dtype: float64\n"
     ]
    }
   ],
   "source": [
    "df4_n=round(df4.loc['Yes']/df4.loc['No'],2)\n",
    "print('The ratio b/w restaurants that provide and do not provide',df4_n)\n"
   ]
  },
  {
   "cell_type": "markdown",
   "id": "b611fac2",
   "metadata": {},
   "source": [
    "Q5. Use a boxplot on the rating column. Use User Defined Function or Lambda function or Apply function to extract the data that comes before /. Kindly exclude /."
   ]
  },
  {
   "cell_type": "code",
   "execution_count": 32,
   "id": "6a24df8f",
   "metadata": {},
   "outputs": [
    {
     "data": {
      "image/png": "[encoded data removed]",
      "text/plain": [
       "<Figure size 360x360 with 1 Axes>"
      ]
     },
     "metadata": {
      "needs_background": "light"
     },
     "output_type": "display_data"
    }
   ],
   "source": [
    "plt.rcParams[\"figure.figsize\"] = (5,5)\n",
    "df['rate']=df['rate'].replace('NEW',np.nan)\n",
    "df['rate']=df['rate'].replace('-',np.nan)\n",
    "df['rate']=df['rate'].replace('nan',np.nan)\n",
    "df['rate']=df['rate'].replace('NaN',np.nan)\n",
    "\n",
    "def edit(x: str):\n",
    "    if type(x)==str:\n",
    "        x_num=x.split('/')[0]\n",
    "        return float(x_num)\n",
    "    return float(x)\n",
    "df['rate']=list(df['rate'].apply(edit))\n",
    "df['rate'].plot(kind='box')\n",
    "plt.title('Ratings of restaurant')\n",
    "plt.show()"
   ]
  },
  {
   "cell_type": "markdown",
   "id": "2f99ecf1",
   "metadata": {},
   "source": [
    "Q6. Online and Offline orders restaurants percentage.\n"
   ]
  },
  {
   "cell_type": "code",
   "execution_count": 34,
   "id": "16da8398",
   "metadata": {},
   "outputs": [
    {
     "data": {
      "text/html": [
       "<div>\n",
       "<style scoped>\n",
       "    .dataframe tbody tr th:only-of-type {\n",
       "        vertical-align: middle;\n",
       "    }\n",
       "\n",
       "    .dataframe tbody tr th {\n",
       "        vertical-align: top;\n",
       "    }\n",
       "\n",
       "    .dataframe thead th {\n",
       "        text-align: right;\n",
       "    }\n",
       "</style>\n",
       "<table border=\"1\" class=\"dataframe\">\n",
       "  <thead>\n",
       "    <tr style=\"text-align: right;\">\n",
       "      <th>online_order</th>\n",
       "      <th>No</th>\n",
       "      <th>Yes</th>\n",
       "      <th>All</th>\n",
       "    </tr>\n",
       "    <tr>\n",
       "      <th>location</th>\n",
       "      <th></th>\n",
       "      <th></th>\n",
       "      <th></th>\n",
       "    </tr>\n",
       "  </thead>\n",
       "  <tbody>\n",
       "    <tr>\n",
       "      <th>BTM</th>\n",
       "      <td>342</td>\n",
       "      <td>621</td>\n",
       "      <td>963</td>\n",
       "    </tr>\n",
       "    <tr>\n",
       "      <th>Banashankari</th>\n",
       "      <td>74</td>\n",
       "      <td>95</td>\n",
       "      <td>169</td>\n",
       "    </tr>\n",
       "    <tr>\n",
       "      <th>Banaswadi</th>\n",
       "      <td>64</td>\n",
       "      <td>64</td>\n",
       "      <td>128</td>\n",
       "    </tr>\n",
       "    <tr>\n",
       "      <th>Bannerghatta Road</th>\n",
       "      <td>145</td>\n",
       "      <td>185</td>\n",
       "      <td>330</td>\n",
       "    </tr>\n",
       "    <tr>\n",
       "      <th>Basavanagudi</th>\n",
       "      <td>31</td>\n",
       "      <td>84</td>\n",
       "      <td>115</td>\n",
       "    </tr>\n",
       "    <tr>\n",
       "      <th>...</th>\n",
       "      <td>...</td>\n",
       "      <td>...</td>\n",
       "      <td>...</td>\n",
       "    </tr>\n",
       "    <tr>\n",
       "      <th>Whitefield</th>\n",
       "      <td>179</td>\n",
       "      <td>198</td>\n",
       "      <td>377</td>\n",
       "    </tr>\n",
       "    <tr>\n",
       "      <th>Wilson Garden</th>\n",
       "      <td>28</td>\n",
       "      <td>28</td>\n",
       "      <td>56</td>\n",
       "    </tr>\n",
       "    <tr>\n",
       "      <th>Yelahanka</th>\n",
       "      <td>0</td>\n",
       "      <td>1</td>\n",
       "      <td>1</td>\n",
       "    </tr>\n",
       "    <tr>\n",
       "      <th>Yeshwantpur</th>\n",
       "      <td>7</td>\n",
       "      <td>21</td>\n",
       "      <td>28</td>\n",
       "    </tr>\n",
       "    <tr>\n",
       "      <th>All</th>\n",
       "      <td>4054</td>\n",
       "      <td>5943</td>\n",
       "      <td>9997</td>\n",
       "    </tr>\n",
       "  </tbody>\n",
       "</table>\n",
       "<p>90 rows × 3 columns</p>\n",
       "</div>"
      ],
      "text/plain": [
       "online_order         No   Yes   All\n",
       "location                           \n",
       "BTM                 342   621   963\n",
       "Banashankari         74    95   169\n",
       "Banaswadi            64    64   128\n",
       "Bannerghatta Road   145   185   330\n",
       "Basavanagudi         31    84   115\n",
       "...                 ...   ...   ...\n",
       "Whitefield          179   198   377\n",
       "Wilson Garden        28    28    56\n",
       "Yelahanka             0     1     1\n",
       "Yeshwantpur           7    21    28\n",
       "All                4054  5943  9997\n",
       "\n",
       "[90 rows x 3 columns]"
      ]
     },
     "execution_count": 34,
     "metadata": {},
     "output_type": "execute_result"
    }
   ],
   "source": [
    "df6=pd.crosstab(df['location'],df['online_order'],margins=True)\n",
    "df6"
   ]
  },
  {
   "cell_type": "code",
   "execution_count": 54,
   "id": "32c19e17",
   "metadata": {},
   "outputs": [
    {
     "name": "stdout",
     "output_type": "stream",
     "text": [
      "percentage of offline orders are 40.55\n",
      "percentage of online orders are 59.45\n"
     ]
    }
   ],
   "source": [
    "x=df6.loc['All']['Yes']\n",
    "y=df6.loc['All']['No']\n",
    "z=df6.loc['All']['All']\n",
    "online=round((x/z)*100,2)\n",
    "offline=round((y/z)*100,2)\n",
    "print(f\"percentage of offline orders are {offline}\")\n",
    "print(f\"percentage of online orders are {online}\")"
   ]
  },
  {
   "cell_type": "code",
   "execution_count": 207,
   "id": "d7cc060e",
   "metadata": {},
   "outputs": [
    {
     "data": {
      "text/plain": [
       "Yes    59.43\n",
       "No     40.57\n",
       "Name: online_order, dtype: float64"
      ]
     },
     "execution_count": 207,
     "metadata": {},
     "output_type": "execute_result"
    }
   ],
   "source": [
    "# another method\n",
    "s6=df['online_order'].value_counts(normalize=True)*100\n",
    "s6"
   ]
  },
  {
   "cell_type": "code",
   "execution_count": 209,
   "id": "0d453da4",
   "metadata": {},
   "outputs": [
    {
     "data": {
      "image/png": "[encoded data removed]",
      "text/plain": [
       "<Figure size 360x360 with 1 Axes>"
      ]
     },
     "metadata": {
      "needs_background": "light"
     },
     "output_type": "display_data"
    }
   ],
   "source": [
    "plt.bar(s6.index,s6.values,color=['r','k'])\n",
    "plt.title('Online and Offline orders restaurants percentage')\n",
    "plt.show()"
   ]
  },
  {
   "cell_type": "code",
   "execution_count": 69,
   "id": "9e0edd74",
   "metadata": {},
   "outputs": [
    {
     "name": "stdout",
     "output_type": "stream",
     "text": [
      "percentage of offline orders are 40.57\n",
      "percentage of online orders are 59.43\n"
     ]
    }
   ],
   "source": [
    "a=s6['Yes']\n",
    "b=s6['No']\n",
    "online_1=round(a/(a+b)*100,2)\n",
    "offline_1=round(b/(a+b)*100,2)\n",
    "print(f\"percentage of offline orders are {offline_1}\")\n",
    "print(f\"percentage of online orders are {online_1}\")"
   ]
  },
  {
   "cell_type": "markdown",
   "id": "aa5d0bcf",
   "metadata": {},
   "source": [
    " Q7. Plot the scatter plot using the Cost vs rating variable with respect to online order. Use apply the function Or other function to remove the “,”."
   ]
  },
  {
   "cell_type": "code",
   "execution_count": 210,
   "id": "91e59087",
   "metadata": {},
   "outputs": [
    {
     "data": {
      "text/plain": [
       "array(['500', '1,700', '600', '400', '350', '200', '2,600', '300', '700',\n",
       "       '150', '1,400', '1,200', '800', '900', '250', '650', '2,000',\n",
       "       '100', '2,800', '1,000', '450', '750', '950', '1,500', '850',\n",
       "       '550', '1,300', '1,650', '1,100', '1,600', nan, '2,500', '2,300',\n",
       "       '2,100', '2,400', '3,000', '70', '1,800', '4,100', '2,200',\n",
       "       '3,400', '1,900', '1,450', '130', '40', '1,050', '1,350', '180',\n",
       "       '1,250', '120', '3,500', '230', '469', '199', '6,000', '4,000',\n",
       "       '80'], dtype=object)"
      ]
     },
     "execution_count": 210,
     "metadata": {},
     "output_type": "execute_result"
    }
   ],
   "source": [
    "df['approx_cost(for two people)'].unique()"
   ]
  },
  {
   "cell_type": "code",
   "execution_count": 211,
   "id": "e3849153",
   "metadata": {},
   "outputs": [],
   "source": [
    "df['approx_cost(for two people)'] = df['approx_cost(for two people)'].apply(lambda x : float(str(x).replace(',','')))"
   ]
  },
  {
   "cell_type": "code",
   "execution_count": 212,
   "id": "415149bf",
   "metadata": {},
   "outputs": [
    {
     "data": {
      "text/plain": [
       "array([ 500., 1700.,  600.,  400.,  350.,  200., 2600.,  300.,  700.,\n",
       "        150., 1400., 1200.,  800.,  900.,  250.,  650., 2000.,  100.,\n",
       "       2800., 1000.,  450.,  750.,  950., 1500.,  850.,  550., 1300.,\n",
       "       1650., 1100., 1600.,   nan, 2500., 2300., 2100., 2400., 3000.,\n",
       "         70., 1800., 4100., 2200., 3400., 1900., 1450.,  130.,   40.,\n",
       "       1050., 1350.,  180., 1250.,  120., 3500.,  230.,  469.,  199.,\n",
       "       6000., 4000.,   80.])"
      ]
     },
     "execution_count": 212,
     "metadata": {},
     "output_type": "execute_result"
    }
   ],
   "source": [
    "df['approx_cost(for two people)'].unique()"
   ]
  },
  {
   "cell_type": "code",
   "execution_count": 213,
   "id": "13e938e1",
   "metadata": {},
   "outputs": [],
   "source": [
    "df7 = df.sort_values(by='approx_cost(for two people)')"
   ]
  },
  {
   "cell_type": "code",
   "execution_count": 221,
   "id": "ad814a0f",
   "metadata": {},
   "outputs": [
    {
     "data": {
      "image/png": "[encoded data removed]",
      "text/plain": [
       "<Figure size 1440x720 with 1 Axes>"
      ]
     },
     "metadata": {
      "needs_background": "light"
     },
     "output_type": "display_data"
    }
   ],
   "source": [
    "plt.figure(figsize=(20,10))\n",
    "sns.scatterplot(data=df7,y='approx_cost(for two people)',x='rate',hue='online_order')\n",
    "plt.xticks(rotation=90)\n",
    "plt.xlabel('Ratings of each restaurant')\n",
    "plt.ylabel('Approximate cost for two people')\n",
    "plt.show()"
   ]
  },
  {
   "cell_type": "markdown",
   "id": "14bb1f50",
   "metadata": {},
   "source": [
    " Q8. Find the distribution of the votes and Approx_cost using a user-defined function and for a loop."
   ]
  },
  {
   "cell_type": "code",
   "execution_count": 144,
   "id": "674f8600",
   "metadata": {},
   "outputs": [
    {
     "data": {
      "text/html": [
       "<div>\n",
       "<style scoped>\n",
       "    .dataframe tbody tr th:only-of-type {\n",
       "        vertical-align: middle;\n",
       "    }\n",
       "\n",
       "    .dataframe tbody tr th {\n",
       "        vertical-align: top;\n",
       "    }\n",
       "\n",
       "    .dataframe thead th {\n",
       "        text-align: right;\n",
       "    }\n",
       "</style>\n",
       "<table border=\"1\" class=\"dataframe\">\n",
       "  <thead>\n",
       "    <tr style=\"text-align: right;\">\n",
       "      <th></th>\n",
       "      <th>votes</th>\n",
       "      <th>approx_cost(for two people)</th>\n",
       "    </tr>\n",
       "  </thead>\n",
       "  <tbody>\n",
       "    <tr>\n",
       "      <th>0</th>\n",
       "      <td>7</td>\n",
       "      <td>500</td>\n",
       "    </tr>\n",
       "    <tr>\n",
       "      <th>1</th>\n",
       "      <td>45</td>\n",
       "      <td>1,700</td>\n",
       "    </tr>\n",
       "    <tr>\n",
       "      <th>2</th>\n",
       "      <td>36</td>\n",
       "      <td>600</td>\n",
       "    </tr>\n",
       "    <tr>\n",
       "      <th>3</th>\n",
       "      <td>7</td>\n",
       "      <td>400</td>\n",
       "    </tr>\n",
       "    <tr>\n",
       "      <th>4</th>\n",
       "      <td>0</td>\n",
       "      <td>400</td>\n",
       "    </tr>\n",
       "    <tr>\n",
       "      <th>...</th>\n",
       "      <td>...</td>\n",
       "      <td>...</td>\n",
       "    </tr>\n",
       "    <tr>\n",
       "      <th>9995</th>\n",
       "      <td>2215</td>\n",
       "      <td>1,500</td>\n",
       "    </tr>\n",
       "    <tr>\n",
       "      <th>9996</th>\n",
       "      <td>4</td>\n",
       "      <td>700</td>\n",
       "    </tr>\n",
       "    <tr>\n",
       "      <th>9997</th>\n",
       "      <td>619</td>\n",
       "      <td>1,000</td>\n",
       "    </tr>\n",
       "    <tr>\n",
       "      <th>9998</th>\n",
       "      <td>122</td>\n",
       "      <td>NaN</td>\n",
       "    </tr>\n",
       "    <tr>\n",
       "      <th>9999</th>\n",
       "      <td>42</td>\n",
       "      <td>300</td>\n",
       "    </tr>\n",
       "  </tbody>\n",
       "</table>\n",
       "<p>10000 rows × 2 columns</p>\n",
       "</div>"
      ],
      "text/plain": [
       "      votes approx_cost(for two people)\n",
       "0         7                         500\n",
       "1        45                       1,700\n",
       "2        36                         600\n",
       "3         7                         400\n",
       "4         0                         400\n",
       "...     ...                         ...\n",
       "9995   2215                       1,500\n",
       "9996      4                         700\n",
       "9997    619                       1,000\n",
       "9998    122                         NaN\n",
       "9999     42                         300\n",
       "\n",
       "[10000 rows x 2 columns]"
      ]
     },
     "execution_count": 144,
     "metadata": {},
     "output_type": "execute_result"
    }
   ],
   "source": [
    "s8=df[['votes','approx_cost(for two people)']]\n",
    "s8"
   ]
  },
  {
   "cell_type": "code",
   "execution_count": 204,
   "id": "2125fe15",
   "metadata": {
    "scrolled": true
   },
   "outputs": [
    {
     "data": {
      "image/png": "[encoded data removed]",
      "text/plain": [
       "<Figure size 720x360 with 1 Axes>"
      ]
     },
     "metadata": {
      "needs_background": "light"
     },
     "output_type": "display_data"
    }
   ],
   "source": [
    "# distribution plot of votes and approx_cost(for two people) of first 20 rows\n",
    "s8=df[['votes','approx_cost(for two people)']][:20]\n",
    "def  votes_and_Approx_cost_distribution():\n",
    "    plt.figure(figsize=(10,5))\n",
    "    for i in s8:\n",
    "        sns.barplot(data=s8,x='approx_cost(for two people)',y='votes') \n",
    "votes_and_Approx_cost_distribution()\n",
    "\n"
   ]
  },
  {
   "cell_type": "markdown",
   "id": "66894524",
   "metadata": {},
   "source": [
    "Q9.Which are the most common restaurant type in Banglore?"
   ]
  },
  {
   "cell_type": "code",
   "execution_count": 223,
   "id": "5f9af400",
   "metadata": {},
   "outputs": [
    {
     "data": {
      "text/plain": [
       "Quick Bites                  3625\n",
       "Casual Dining                2018\n",
       "Cafe                          712\n",
       "Delivery                      499\n",
       "Dessert Parlor                443\n",
       "                             ... \n",
       "Food Court, Beverage Shop       1\n",
       "Bar, Pub                        1\n",
       "Casual Dining, Lounge           1\n",
       "Quick Bites, Meat Shop          1\n",
       "Bakery, Sweet Shop              1\n",
       "Name: rest_type, Length: 82, dtype: int64"
      ]
     },
     "execution_count": 223,
     "metadata": {},
     "output_type": "execute_result"
    }
   ],
   "source": [
    "df['rest_type'].value_counts()"
   ]
  },
  {
   "cell_type": "code",
   "execution_count": 222,
   "id": "2224843e",
   "metadata": {
    "scrolled": true
   },
   "outputs": [
    {
     "data": {
      "text/plain": [
       "Quick Bites       3625\n",
       "Casual Dining     2018\n",
       "Cafe               712\n",
       "Delivery           499\n",
       "Dessert Parlor     443\n",
       "Name: rest_type, dtype: int64"
      ]
     },
     "execution_count": 222,
     "metadata": {},
     "output_type": "execute_result"
    }
   ],
   "source": [
    "df['rest_type'].value_counts().head() # default num=5"
   ]
  },
  {
   "cell_type": "markdown",
   "id": "c4707c42",
   "metadata": {},
   "source": [
    "Q10. Is there any difference b/w the votes of restaurants accepting and not accepting online orders?"
   ]
  },
  {
   "cell_type": "code",
   "execution_count": 224,
   "id": "242b7df0",
   "metadata": {},
   "outputs": [
    {
     "data": {
      "text/plain": [
       "2923926"
      ]
     },
     "execution_count": 224,
     "metadata": {},
     "output_type": "execute_result"
    }
   ],
   "source": [
    "df[\"votes\"].sum()"
   ]
  },
  {
   "cell_type": "code",
   "execution_count": 227,
   "id": "6e7504d8",
   "metadata": {},
   "outputs": [
    {
     "data": {
      "text/html": [
       "<div>\n",
       "<style scoped>\n",
       "    .dataframe tbody tr th:only-of-type {\n",
       "        vertical-align: middle;\n",
       "    }\n",
       "\n",
       "    .dataframe tbody tr th {\n",
       "        vertical-align: top;\n",
       "    }\n",
       "\n",
       "    .dataframe thead th {\n",
       "        text-align: right;\n",
       "    }\n",
       "</style>\n",
       "<table border=\"1\" class=\"dataframe\">\n",
       "  <thead>\n",
       "    <tr style=\"text-align: right;\">\n",
       "      <th></th>\n",
       "      <th>votes</th>\n",
       "    </tr>\n",
       "    <tr>\n",
       "      <th>online_order</th>\n",
       "      <th></th>\n",
       "    </tr>\n",
       "  </thead>\n",
       "  <tbody>\n",
       "    <tr>\n",
       "      <th>No</th>\n",
       "      <td>1128442</td>\n",
       "    </tr>\n",
       "    <tr>\n",
       "      <th>Yes</th>\n",
       "      <td>1795484</td>\n",
       "    </tr>\n",
       "  </tbody>\n",
       "</table>\n",
       "</div>"
      ],
      "text/plain": [
       "                votes\n",
       "online_order         \n",
       "No            1128442\n",
       "Yes           1795484"
      ]
     },
     "execution_count": 227,
     "metadata": {},
     "output_type": "execute_result"
    }
   ],
   "source": [
    "df10=pd.pivot_table(data=df,index=\"online_order\",values=\"votes\",aggfunc=\"sum\")\n",
    "df10"
   ]
  },
  {
   "cell_type": "code",
   "execution_count": 229,
   "id": "ffba5bc0",
   "metadata": {},
   "outputs": [
    {
     "data": {
      "text/html": [
       "<div>\n",
       "<style scoped>\n",
       "    .dataframe tbody tr th:only-of-type {\n",
       "        vertical-align: middle;\n",
       "    }\n",
       "\n",
       "    .dataframe tbody tr th {\n",
       "        vertical-align: top;\n",
       "    }\n",
       "\n",
       "    .dataframe thead th {\n",
       "        text-align: right;\n",
       "    }\n",
       "</style>\n",
       "<table border=\"1\" class=\"dataframe\">\n",
       "  <thead>\n",
       "    <tr style=\"text-align: right;\">\n",
       "      <th></th>\n",
       "      <th>votes</th>\n",
       "    </tr>\n",
       "    <tr>\n",
       "      <th>online_order</th>\n",
       "      <th></th>\n",
       "    </tr>\n",
       "  </thead>\n",
       "  <tbody>\n",
       "    <tr>\n",
       "      <th>No</th>\n",
       "      <td>38.59</td>\n",
       "    </tr>\n",
       "    <tr>\n",
       "      <th>Yes</th>\n",
       "      <td>61.41</td>\n",
       "    </tr>\n",
       "  </tbody>\n",
       "</table>\n",
       "</div>"
      ],
      "text/plain": [
       "              votes\n",
       "online_order       \n",
       "No            38.59\n",
       "Yes           61.41"
      ]
     },
     "execution_count": 229,
     "metadata": {},
     "output_type": "execute_result"
    }
   ],
   "source": [
    "round(df10/df10.sum()*100,2)  #for obtaining percentage"
   ]
  },
  {
   "cell_type": "markdown",
   "id": "7e9b696f",
   "metadata": {},
   "source": [
    "Q11. Which are the most common restaurant type in Banglore?"
   ]
  },
  {
   "cell_type": "code",
   "execution_count": 230,
   "id": "34af4dd3",
   "metadata": {},
   "outputs": [
    {
     "data": {
      "text/plain": [
       "Quick Bites                  3625\n",
       "Casual Dining                2018\n",
       "Cafe                          712\n",
       "Delivery                      499\n",
       "Dessert Parlor                443\n",
       "                             ... \n",
       "Food Court, Beverage Shop       1\n",
       "Bar, Pub                        1\n",
       "Casual Dining, Lounge           1\n",
       "Quick Bites, Meat Shop          1\n",
       "Bakery, Sweet Shop              1\n",
       "Name: rest_type, Length: 82, dtype: int64"
      ]
     },
     "execution_count": 230,
     "metadata": {},
     "output_type": "execute_result"
    }
   ],
   "source": [
    "df[\"rest_type\"].value_counts()"
   ]
  },
  {
   "cell_type": "markdown",
   "id": "67f929a2",
   "metadata": {},
   "source": [
    "Q12. Find the Best budget Restaurants in any location."
   ]
  },
  {
   "cell_type": "code",
   "execution_count": 232,
   "id": "e931e279",
   "metadata": {},
   "outputs": [
    {
     "data": {
      "text/html": [
       "<div>\n",
       "<style scoped>\n",
       "    .dataframe tbody tr th:only-of-type {\n",
       "        vertical-align: middle;\n",
       "    }\n",
       "\n",
       "    .dataframe tbody tr th {\n",
       "        vertical-align: top;\n",
       "    }\n",
       "\n",
       "    .dataframe thead th {\n",
       "        text-align: right;\n",
       "    }\n",
       "</style>\n",
       "<table border=\"1\" class=\"dataframe\">\n",
       "  <thead>\n",
       "    <tr style=\"text-align: right;\">\n",
       "      <th></th>\n",
       "      <th>name</th>\n",
       "    </tr>\n",
       "    <tr>\n",
       "      <th>approx_cost(for two people)</th>\n",
       "      <th></th>\n",
       "    </tr>\n",
       "  </thead>\n",
       "  <tbody>\n",
       "    <tr>\n",
       "      <th>40.0</th>\n",
       "      <td>Srinidhi Sagar Deluxe</td>\n",
       "    </tr>\n",
       "    <tr>\n",
       "      <th>70.0</th>\n",
       "      <td>Namaste</td>\n",
       "    </tr>\n",
       "    <tr>\n",
       "      <th>80.0</th>\n",
       "      <td>Lassi Shop</td>\n",
       "    </tr>\n",
       "    <tr>\n",
       "      <th>100.0</th>\n",
       "      <td>A-1 Fast Food</td>\n",
       "    </tr>\n",
       "    <tr>\n",
       "      <th>120.0</th>\n",
       "      <td>Malleshwaram Dosa Corner</td>\n",
       "    </tr>\n",
       "    <tr>\n",
       "      <th>130.0</th>\n",
       "      <td>Natural Mumbai Kulfi</td>\n",
       "    </tr>\n",
       "    <tr>\n",
       "      <th>150.0</th>\n",
       "      <td>3ice Cubes</td>\n",
       "    </tr>\n",
       "    <tr>\n",
       "      <th>180.0</th>\n",
       "      <td>Pabrai's Fresh &amp; Naturelle Icecreams</td>\n",
       "    </tr>\n",
       "    <tr>\n",
       "      <th>199.0</th>\n",
       "      <td>Veganbreak24x7</td>\n",
       "    </tr>\n",
       "    <tr>\n",
       "      <th>200.0</th>\n",
       "      <td>1992 Chats - Space</td>\n",
       "    </tr>\n",
       "  </tbody>\n",
       "</table>\n",
       "</div>"
      ],
      "text/plain": [
       "                                                             name\n",
       "approx_cost(for two people)                                      \n",
       "40.0                                        Srinidhi Sagar Deluxe\n",
       "70.0                                                      Namaste\n",
       "80.0                                                   Lassi Shop\n",
       "100.0                                               A-1 Fast Food\n",
       "120.0                                    Malleshwaram Dosa Corner\n",
       "130.0                                        Natural Mumbai Kulfi\n",
       "150.0                                                  3ice Cubes\n",
       "180.0                        Pabrai's Fresh & Naturelle Icecreams\n",
       "199.0                                              Veganbreak24x7\n",
       "200.0                                          1992 Chats - Space"
      ]
     },
     "execution_count": 232,
     "metadata": {},
     "output_type": "execute_result"
    }
   ],
   "source": [
    "df.groupby('approx_cost(for two people)')['name'].min().head(10).to_frame()  # to find top 10 best budget Restaurants"
   ]
  },
  {
   "cell_type": "markdown",
   "id": "8f2afbaf",
   "metadata": {},
   "source": [
    "We see that the Restaurant 'Srinidhi Sagar Deluxe' is the most budget friendly Restaurant in any location in Bangalore with \n",
    "an approximate cost for 2 people at Rs 40 only."
   ]
  },
  {
   "cell_type": "markdown",
   "id": "da8d7c4d",
   "metadata": {},
   "source": [
    "Q13. Top quick bites restaurant chains in Banglore."
   ]
  },
  {
   "cell_type": "code",
   "execution_count": 238,
   "id": "de3ebab6",
   "metadata": {},
   "outputs": [
    {
     "data": {
      "text/html": [
       "<div>\n",
       "<style scoped>\n",
       "    .dataframe tbody tr th:only-of-type {\n",
       "        vertical-align: middle;\n",
       "    }\n",
       "\n",
       "    .dataframe tbody tr th {\n",
       "        vertical-align: top;\n",
       "    }\n",
       "\n",
       "    .dataframe thead th {\n",
       "        text-align: right;\n",
       "    }\n",
       "</style>\n",
       "<table border=\"1\" class=\"dataframe\">\n",
       "  <thead>\n",
       "    <tr style=\"text-align: right;\">\n",
       "      <th></th>\n",
       "      <th>name</th>\n",
       "      <th>rate</th>\n",
       "      <th>rest_type</th>\n",
       "      <th>location</th>\n",
       "    </tr>\n",
       "  </thead>\n",
       "  <tbody>\n",
       "    <tr>\n",
       "      <th>1664</th>\n",
       "      <td>Kapoor's Punjabi Rolls</td>\n",
       "      <td>NEW</td>\n",
       "      <td>Quick Bites</td>\n",
       "      <td>Kalyan Nagar</td>\n",
       "    </tr>\n",
       "    <tr>\n",
       "      <th>6658</th>\n",
       "      <td>Taaza Thindi</td>\n",
       "      <td>4.7/5</td>\n",
       "      <td>Quick Bites</td>\n",
       "      <td>Banashankari</td>\n",
       "    </tr>\n",
       "    <tr>\n",
       "      <th>8978</th>\n",
       "      <td>Taaza Thindi</td>\n",
       "      <td>4.7/5</td>\n",
       "      <td>Quick Bites</td>\n",
       "      <td>Banashankari</td>\n",
       "    </tr>\n",
       "    <tr>\n",
       "      <th>5605</th>\n",
       "      <td>CTR</td>\n",
       "      <td>4.7 /5</td>\n",
       "      <td>Quick Bites</td>\n",
       "      <td>Malleshwaram</td>\n",
       "    </tr>\n",
       "    <tr>\n",
       "      <th>7838</th>\n",
       "      <td>Chikkanna Tiffin Room</td>\n",
       "      <td>4.5/5</td>\n",
       "      <td>Quick Bites</td>\n",
       "      <td>City Market</td>\n",
       "    </tr>\n",
       "    <tr>\n",
       "      <th>8775</th>\n",
       "      <td>Veena Stores</td>\n",
       "      <td>4.5 /5</td>\n",
       "      <td>Quick Bites</td>\n",
       "      <td>Malleshwaram</td>\n",
       "    </tr>\n",
       "    <tr>\n",
       "      <th>2500</th>\n",
       "      <td>GMT - Gelateria Montecatini Terme</td>\n",
       "      <td>4.4/5</td>\n",
       "      <td>Quick Bites</td>\n",
       "      <td>Lavelle Road</td>\n",
       "    </tr>\n",
       "    <tr>\n",
       "      <th>4894</th>\n",
       "      <td>The Bundle Co.</td>\n",
       "      <td>4.4/5</td>\n",
       "      <td>Quick Bites</td>\n",
       "      <td>MG Road</td>\n",
       "    </tr>\n",
       "  </tbody>\n",
       "</table>\n",
       "</div>"
      ],
      "text/plain": [
       "                                   name    rate    rest_type      location\n",
       "1664             Kapoor's Punjabi Rolls     NEW  Quick Bites  Kalyan Nagar\n",
       "6658                       Taaza Thindi   4.7/5  Quick Bites  Banashankari\n",
       "8978                       Taaza Thindi   4.7/5  Quick Bites  Banashankari\n",
       "5605                                CTR  4.7 /5  Quick Bites  Malleshwaram\n",
       "7838              Chikkanna Tiffin Room   4.5/5  Quick Bites   City Market\n",
       "8775                       Veena Stores  4.5 /5  Quick Bites  Malleshwaram\n",
       "2500  GMT - Gelateria Montecatini Terme   4.4/5  Quick Bites  Lavelle Road\n",
       "4894                     The Bundle Co.   4.4/5  Quick Bites       MG Road"
      ]
     },
     "execution_count": 238,
     "metadata": {},
     "output_type": "execute_result"
    }
   ],
   "source": [
    "x = df[df[\"rest_type\"]==\"Quick Bites\"].sort_values(by='rate',ascending=False) \n",
    "y=x.dropna()\n",
    "y.loc[:][['name','rate','rest_type','location']].head(8) # top 8 quick bites Restaurant"
   ]
  },
  {
   "cell_type": "markdown",
   "id": "7409bad4",
   "metadata": {},
   "source": [
    "Q14. Which are the most popular casual dining restaurant chains, Make use of any plot related to this question?"
   ]
  },
  {
   "cell_type": "code",
   "execution_count": 247,
   "id": "3384c9d1",
   "metadata": {
    "scrolled": true
   },
   "outputs": [
    {
     "data": {
      "text/plain": [
       "name                                        location             \n",
       "Tangerine - Davanam Sarovar Portico Suites  Koramangala 2nd Block    8\n",
       "China South                                 Brigade Road             7\n",
       "Fresh Kitchen                               Bannerghatta Road        7\n",
       "Indus Family Restaurant                     BTM                      7\n",
       "The Himalayan                               Koramangala 5th Block    6\n",
       "                                                                    ..\n",
       "Daily Sushi                                 Whitefield               1\n",
       "North Wale Restaurant                       Brookefield              1\n",
       "Northern Bites                              Bannerghatta Road        1\n",
       "Northern Gate- Gateway Hotel                Residency Road           1\n",
       "#Vibes Restro                               Electronic City          1\n",
       "Length: 1141, dtype: int64"
      ]
     },
     "execution_count": 247,
     "metadata": {},
     "output_type": "execute_result"
    }
   ],
   "source": [
    "df[df['rest_type']=='Casual Dining'][['name','location']].value_counts()"
   ]
  },
  {
   "cell_type": "code",
   "execution_count": 245,
   "id": "23eb5c4c",
   "metadata": {},
   "outputs": [
    {
     "data": {
      "image/png": "[encoded data removed]",
      "text/plain": [
       "<Figure size 1440x720 with 1 Axes>"
      ]
     },
     "metadata": {
      "needs_background": "light"
     },
     "output_type": "display_data"
    }
   ],
   "source": [
    "plt.figure(figsize=(20,10))\n",
    "casual_dining = df[df['rest_type']=='Casual Dining']['name'].value_counts()[:15]\n",
    "sns.barplot(x = casual_dining,y = casual_dining.index)\n",
    "plt.title(\"Top Casual Dining Restaurants\")\n",
    "plt.xlabel(\"No of Restaurants\")\n",
    "plt.ylabel(\"Name of Restaurants\")\n",
    "plt.show()"
   ]
  },
  {
   "cell_type": "markdown",
   "id": "ee7ca333",
   "metadata": {},
   "source": [
    "Q15. Which are the most popular cuisines of Bangalore using a related plot?"
   ]
  },
  {
   "cell_type": "code",
   "execution_count": 251,
   "id": "0aa9a8fd",
   "metadata": {},
   "outputs": [
    {
     "data": {
      "text/html": [
       "<div>\n",
       "<style scoped>\n",
       "    .dataframe tbody tr th:only-of-type {\n",
       "        vertical-align: middle;\n",
       "    }\n",
       "\n",
       "    .dataframe tbody tr th {\n",
       "        vertical-align: top;\n",
       "    }\n",
       "\n",
       "    .dataframe thead th {\n",
       "        text-align: right;\n",
       "    }\n",
       "</style>\n",
       "<table border=\"1\" class=\"dataframe\">\n",
       "  <thead>\n",
       "    <tr style=\"text-align: right;\">\n",
       "      <th></th>\n",
       "      <th>cuisines</th>\n",
       "    </tr>\n",
       "  </thead>\n",
       "  <tbody>\n",
       "    <tr>\n",
       "      <th>North Indian</th>\n",
       "      <td>522</td>\n",
       "    </tr>\n",
       "    <tr>\n",
       "      <th>North Indian, Chinese</th>\n",
       "      <td>451</td>\n",
       "    </tr>\n",
       "    <tr>\n",
       "      <th>South Indian</th>\n",
       "      <td>363</td>\n",
       "    </tr>\n",
       "    <tr>\n",
       "      <th>Bakery, Desserts</th>\n",
       "      <td>199</td>\n",
       "    </tr>\n",
       "    <tr>\n",
       "      <th>Biryani</th>\n",
       "      <td>159</td>\n",
       "    </tr>\n",
       "    <tr>\n",
       "      <th>...</th>\n",
       "      <td>...</td>\n",
       "    </tr>\n",
       "    <tr>\n",
       "      <th>Juices, Beverages, Salad</th>\n",
       "      <td>1</td>\n",
       "    </tr>\n",
       "    <tr>\n",
       "      <th>Modern Indian, North Indian</th>\n",
       "      <td>1</td>\n",
       "    </tr>\n",
       "    <tr>\n",
       "      <th>Bakery, Juices, Fast Food</th>\n",
       "      <td>1</td>\n",
       "    </tr>\n",
       "    <tr>\n",
       "      <th>Arabian, BBQ, Rolls, Lebanese</th>\n",
       "      <td>1</td>\n",
       "    </tr>\n",
       "    <tr>\n",
       "      <th>Chinese, Street Food, Rolls</th>\n",
       "      <td>1</td>\n",
       "    </tr>\n",
       "  </tbody>\n",
       "</table>\n",
       "<p>1747 rows × 1 columns</p>\n",
       "</div>"
      ],
      "text/plain": [
       "                               cuisines\n",
       "North Indian                        522\n",
       "North Indian, Chinese               451\n",
       "South Indian                        363\n",
       "Bakery, Desserts                    199\n",
       "Biryani                             159\n",
       "...                                 ...\n",
       "Juices, Beverages, Salad              1\n",
       "Modern Indian, North Indian           1\n",
       "Bakery, Juices, Fast Food             1\n",
       "Arabian, BBQ, Rolls, Lebanese         1\n",
       "Chinese, Street Food, Rolls           1\n",
       "\n",
       "[1747 rows x 1 columns]"
      ]
     },
     "execution_count": 251,
     "metadata": {},
     "output_type": "execute_result"
    }
   ],
   "source": [
    "df['cuisines'].value_counts().to_frame()"
   ]
  },
  {
   "cell_type": "code",
   "execution_count": 250,
   "id": "108515dd",
   "metadata": {},
   "outputs": [
    {
     "data": {
      "image/png": "[encoded data removed]",
      "text/plain": [
       "<Figure size 1440x720 with 1 Axes>"
      ]
     },
     "metadata": {
      "needs_background": "light"
     },
     "output_type": "display_data"
    }
   ],
   "source": [
    "# Plotting bar chart for most popular cuisines of Bangalore.\n",
    "\n",
    "plt.figure(figsize=(20,10))\n",
    "cuisines = df['cuisines'].value_counts()[:10]\n",
    "sns.barplot(x = cuisines,y = cuisines.index)\n",
    "plt.title(\"Restaurant types\")\n",
    "plt.xlabel(\"count\")\n",
    "plt.ylabel(\"cuisines\")\n",
    "plt.show()"
   ]
  }
 ],
 "metadata": {
  "kernelspec": {
   "display_name": "Python 3 (ipykernel)",
   "language": "python",
   "name": "python3"
  },
  "language_info": {
   "codemirror_mode": {
    "name": "ipython",
    "version": 3
   },
   "file_extension": ".py",
   "mimetype": "text/x-python",
   "name": "python",
   "nbconvert_exporter": "python",
   "pygments_lexer": "ipython3",
   "version": "3.9.12"
  }
 },
 "nbformat": 4,
 "nbformat_minor": 5
}
